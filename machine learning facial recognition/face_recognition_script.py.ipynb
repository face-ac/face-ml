{
 "cells": [
  {
   "cell_type": "code",
   "execution_count": 3,
   "metadata": {},
   "outputs": [],
   "source": [
    "import face_recognition\n",
    "import glob\n",
    "import os\n",
    "import sys"
   ]
  },
  {
   "cell_type": "code",
   "execution_count": null,
   "metadata": {},
   "outputs": [],
   "source": [
    "#TODO put camera capture into 'unknown' folder"
   ]
  },
  {
   "cell_type": "code",
   "execution_count": 4,
   "metadata": {},
   "outputs": [
    {
     "name": "stdout",
     "output_type": "stream",
     "text": [
      "C:\\Users\\Brandon Neep\\Documents\\machine learning facial recognition\n"
     ]
    }
   ],
   "source": [
    "#path to folders holding images\n",
    "root = os.path.dirname(os.path.abspath('machine learning facial recognition'))\n",
    "print(root)"
   ]
  },
  {
   "cell_type": "code",
   "execution_count": 5,
   "metadata": {},
   "outputs": [],
   "source": [
    "#known_image = face_recognition.load_image_file(\"./known/Banana.jpg\")\n",
    "#unknown_image = face_recognition.load_image_file(\"./unknown/benKTest.jpg\")"
   ]
  },
  {
   "cell_type": "code",
   "execution_count": 6,
   "metadata": {},
   "outputs": [],
   "source": [
    "#known_encoding = face_recognition.face_encodings(known_image)[0]\n",
    "#unknown_encoding = face_recognition.face_encodings(unknown_image)[0]"
   ]
  },
  {
   "cell_type": "code",
   "execution_count": 7,
   "metadata": {},
   "outputs": [],
   "source": [
    "#results = face_recognition.compare_faces([known_encoding], unknown_encoding)\n"
   ]
  },
  {
   "cell_type": "code",
   "execution_count": 8,
   "metadata": {},
   "outputs": [
    {
     "name": "stdout",
     "output_type": "stream",
     "text": [
      "[False]\n"
     ]
    }
   ],
   "source": [
    "#print(results)"
   ]
  },
  {
   "cell_type": "code",
   "execution_count": 9,
   "metadata": {},
   "outputs": [
    {
     "name": "stdout",
     "output_type": "stream",
     "text": [
      "['./known\\\\Aakash.jpg', './known\\\\Banana.JPG', './known\\\\BenK.jpg', './known\\\\BNEEP.jpg', './known\\\\JaredG.jpg']\n",
      "['./unknown\\\\benKtest.jpg']\n"
     ]
    }
   ],
   "source": [
    "#print(glob.glob(\"./known/*.jpg\"))\n",
    "#print(glob.glob(\"./unknown/*.jpg\"))\n"
   ]
  },
  {
   "cell_type": "code",
   "execution_count": 10,
   "metadata": {},
   "outputs": [],
   "source": [
    "known_files = []\n",
    "unknown_files = []\n",
    "\n",
    "\n"
   ]
  },
  {
   "cell_type": "code",
   "execution_count": 11,
   "metadata": {},
   "outputs": [
    {
     "name": "stdout",
     "output_type": "stream",
     "text": [
      "Only file name:  Aakash.jpg\n",
      "Only file name:  Banana.JPG\n",
      "Only file name:  BenK.jpg\n",
      "Only file name:  BNEEP.jpg\n",
      "Only file name:  JaredG.jpg\n",
      "Only file name:  benKtest.jpg\n"
     ]
    }
   ],
   "source": [
    "\n",
    "for fileName_relative in glob.glob(root+\"./known/*.jpg\", recursive = True):\n",
    "\n",
    "    fileName_absolute = os.path.basename(fileName_relative)                \n",
    "\n",
    "    print(\"Only file name: \", fileName_absolute)\n",
    "    #type(fileName_absolute)\n",
    "    known_files.append(fileName_absolute)\n",
    "\n",
    "for fileName_relative in glob.glob(root+\"./unknown/*.jpg\", recursive = True):\n",
    "\n",
    "    fileName_absolute = os.path.basename(fileName_relative)                \n",
    "\n",
    "    print(\"Only file name: \", fileName_absolute)\n",
    "    #type(fileName_absolute)\n",
    "    unknown_files.append(fileName_absolute)"
   ]
  },
  {
   "cell_type": "code",
   "execution_count": 12,
   "metadata": {},
   "outputs": [
    {
     "name": "stdout",
     "output_type": "stream",
     "text": [
      "['benKtest.jpg']\n",
      "['Aakash.jpg', 'Banana.JPG', 'BenK.jpg', 'BNEEP.jpg', 'JaredG.jpg']\n"
     ]
    }
   ],
   "source": [
    "#print(unknown_files)\n",
    "#print(known_files)"
   ]
  },
  {
   "cell_type": "code",
   "execution_count": 19,
   "metadata": {},
   "outputs": [
    {
     "name": "stdout",
     "output_type": "stream",
     "text": [
      "Aakash.jpg\n",
      "[False]\n",
      "Banana.JPG\n",
      "[False]\n",
      "BenK.jpg\n",
      "[True]\n",
      "yes\n",
      "BNEEP.jpg\n",
      "[False]\n",
      "JaredG.jpg\n",
      "[False]\n"
     ]
    }
   ],
   "source": [
    "for files in known_files:\n",
    "    print(files)\n",
    "    known_image = face_recognition.load_image_file(\"./known/\"+files)\n",
    "    unknown_image = face_recognition.load_image_file(\"./unknown/benKTest.jpg\")\n",
    "    known_encoding = face_recognition.face_encodings(known_image)[0]\n",
    "    unknown_encoding = face_recognition.face_encodings(unknown_image)[0]\n",
    "    results = face_recognition.compare_faces([known_encoding], unknown_encoding)\n",
    "    #print(results)\n",
    "    if(results[0] == True):\n",
    "        print('yes')\n",
    "        #TODO unlock door function here\n",
    "        #TODO log who unlocked the door\n",
    "    #TODO delete/move jpg from 'unknown' folder to 'faces_scanned' folder (for logging purposes)"
   ]
  },
  {
   "cell_type": "code",
   "execution_count": null,
   "metadata": {},
   "outputs": [],
   "source": []
  }
 ],
 "metadata": {
  "kernelspec": {
   "display_name": "Python 3",
   "language": "python",
   "name": "python3"
  },
  "language_info": {
   "codemirror_mode": {
    "name": "ipython",
    "version": 3
   },
   "file_extension": ".py",
   "mimetype": "text/x-python",
   "name": "python",
   "nbconvert_exporter": "python",
   "pygments_lexer": "ipython3",
   "version": "3.7.3"
  }
 },
 "nbformat": 4,
 "nbformat_minor": 2
}
